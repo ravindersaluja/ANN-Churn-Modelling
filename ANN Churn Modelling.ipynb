{
 "cells": [
  {
   "cell_type": "markdown",
   "metadata": {},
   "source": [
    "## Importing libraries"
   ]
  },
  {
   "cell_type": "code",
   "execution_count": 1,
   "metadata": {},
   "outputs": [],
   "source": [
    "import pandas as pd\n",
    "import numpy as np\n",
    "import matplotlib.pyplot as plt"
   ]
  },
  {
   "cell_type": "markdown",
   "metadata": {},
   "source": [
    "## Loading the data into df and basic exploratory"
   ]
  },
  {
   "cell_type": "code",
   "execution_count": 2,
   "metadata": {},
   "outputs": [],
   "source": [
    "df = pd.read_csv('Churn_Modelling.csv')"
   ]
  },
  {
   "cell_type": "code",
   "execution_count": 3,
   "metadata": {},
   "outputs": [
    {
     "data": {
      "text/html": [
       "<div>\n",
       "<style scoped>\n",
       "    .dataframe tbody tr th:only-of-type {\n",
       "        vertical-align: middle;\n",
       "    }\n",
       "\n",
       "    .dataframe tbody tr th {\n",
       "        vertical-align: top;\n",
       "    }\n",
       "\n",
       "    .dataframe thead th {\n",
       "        text-align: right;\n",
       "    }\n",
       "</style>\n",
       "<table border=\"1\" class=\"dataframe\">\n",
       "  <thead>\n",
       "    <tr style=\"text-align: right;\">\n",
       "      <th></th>\n",
       "      <th>RowNumber</th>\n",
       "      <th>CustomerId</th>\n",
       "      <th>Surname</th>\n",
       "      <th>CreditScore</th>\n",
       "      <th>Geography</th>\n",
       "      <th>Gender</th>\n",
       "      <th>Age</th>\n",
       "      <th>Tenure</th>\n",
       "      <th>Balance</th>\n",
       "      <th>NumOfProducts</th>\n",
       "      <th>HasCrCard</th>\n",
       "      <th>IsActiveMember</th>\n",
       "      <th>EstimatedSalary</th>\n",
       "      <th>Exited</th>\n",
       "    </tr>\n",
       "  </thead>\n",
       "  <tbody>\n",
       "    <tr>\n",
       "      <th>0</th>\n",
       "      <td>1</td>\n",
       "      <td>15634602</td>\n",
       "      <td>Hargrave</td>\n",
       "      <td>619</td>\n",
       "      <td>France</td>\n",
       "      <td>Female</td>\n",
       "      <td>42</td>\n",
       "      <td>2</td>\n",
       "      <td>0.00</td>\n",
       "      <td>1</td>\n",
       "      <td>1</td>\n",
       "      <td>1</td>\n",
       "      <td>101348.88</td>\n",
       "      <td>1</td>\n",
       "    </tr>\n",
       "    <tr>\n",
       "      <th>1</th>\n",
       "      <td>2</td>\n",
       "      <td>15647311</td>\n",
       "      <td>Hill</td>\n",
       "      <td>608</td>\n",
       "      <td>Spain</td>\n",
       "      <td>Female</td>\n",
       "      <td>41</td>\n",
       "      <td>1</td>\n",
       "      <td>83807.86</td>\n",
       "      <td>1</td>\n",
       "      <td>0</td>\n",
       "      <td>1</td>\n",
       "      <td>112542.58</td>\n",
       "      <td>0</td>\n",
       "    </tr>\n",
       "    <tr>\n",
       "      <th>2</th>\n",
       "      <td>3</td>\n",
       "      <td>15619304</td>\n",
       "      <td>Onio</td>\n",
       "      <td>502</td>\n",
       "      <td>France</td>\n",
       "      <td>Female</td>\n",
       "      <td>42</td>\n",
       "      <td>8</td>\n",
       "      <td>159660.80</td>\n",
       "      <td>3</td>\n",
       "      <td>1</td>\n",
       "      <td>0</td>\n",
       "      <td>113931.57</td>\n",
       "      <td>1</td>\n",
       "    </tr>\n",
       "    <tr>\n",
       "      <th>3</th>\n",
       "      <td>4</td>\n",
       "      <td>15701354</td>\n",
       "      <td>Boni</td>\n",
       "      <td>699</td>\n",
       "      <td>France</td>\n",
       "      <td>Female</td>\n",
       "      <td>39</td>\n",
       "      <td>1</td>\n",
       "      <td>0.00</td>\n",
       "      <td>2</td>\n",
       "      <td>0</td>\n",
       "      <td>0</td>\n",
       "      <td>93826.63</td>\n",
       "      <td>0</td>\n",
       "    </tr>\n",
       "    <tr>\n",
       "      <th>4</th>\n",
       "      <td>5</td>\n",
       "      <td>15737888</td>\n",
       "      <td>Mitchell</td>\n",
       "      <td>850</td>\n",
       "      <td>Spain</td>\n",
       "      <td>Female</td>\n",
       "      <td>43</td>\n",
       "      <td>2</td>\n",
       "      <td>125510.82</td>\n",
       "      <td>1</td>\n",
       "      <td>1</td>\n",
       "      <td>1</td>\n",
       "      <td>79084.10</td>\n",
       "      <td>0</td>\n",
       "    </tr>\n",
       "  </tbody>\n",
       "</table>\n",
       "</div>"
      ],
      "text/plain": [
       "   RowNumber  CustomerId   Surname  CreditScore Geography  Gender  Age  \\\n",
       "0          1    15634602  Hargrave          619    France  Female   42   \n",
       "1          2    15647311      Hill          608     Spain  Female   41   \n",
       "2          3    15619304      Onio          502    France  Female   42   \n",
       "3          4    15701354      Boni          699    France  Female   39   \n",
       "4          5    15737888  Mitchell          850     Spain  Female   43   \n",
       "\n",
       "   Tenure    Balance  NumOfProducts  HasCrCard  IsActiveMember  \\\n",
       "0       2       0.00              1          1               1   \n",
       "1       1   83807.86              1          0               1   \n",
       "2       8  159660.80              3          1               0   \n",
       "3       1       0.00              2          0               0   \n",
       "4       2  125510.82              1          1               1   \n",
       "\n",
       "   EstimatedSalary  Exited  \n",
       "0        101348.88       1  \n",
       "1        112542.58       0  \n",
       "2        113931.57       1  \n",
       "3         93826.63       0  \n",
       "4         79084.10       0  "
      ]
     },
     "execution_count": 3,
     "metadata": {},
     "output_type": "execute_result"
    }
   ],
   "source": [
    "df.head()"
   ]
  },
  {
   "cell_type": "markdown",
   "metadata": {},
   "source": [
    "## Making X and y from the data"
   ]
  },
  {
   "cell_type": "code",
   "execution_count": 4,
   "metadata": {},
   "outputs": [],
   "source": [
    "# Dropping the useless variables and storing in X\n",
    "X = df.drop(['RowNumber', 'CustomerId', 'Surname', 'Exited'], axis=1)"
   ]
  },
  {
   "cell_type": "code",
   "execution_count": 5,
   "metadata": {},
   "outputs": [],
   "source": [
    "y = df.Exited"
   ]
  },
  {
   "cell_type": "markdown",
   "metadata": {},
   "source": [
    "## Browsing through the sklearn library"
   ]
  },
  {
   "cell_type": "code",
   "execution_count": 6,
   "metadata": {},
   "outputs": [
    {
     "data": {
      "text/plain": [
       "['_config',\n",
       " '_distributor_init',\n",
       " 'base',\n",
       " 'clone',\n",
       " 'config_context',\n",
       " 'exceptions',\n",
       " 'externals',\n",
       " 'get_config',\n",
       " 'logger',\n",
       " 'logging',\n",
       " 'os',\n",
       " 're',\n",
       " 'set_config',\n",
       " 'setup_module',\n",
       " 'show_versions',\n",
       " 'sys',\n",
       " 'utils']"
      ]
     },
     "execution_count": 6,
     "metadata": {},
     "output_type": "execute_result"
    }
   ],
   "source": [
    "import sklearn\n",
    "[x for x in dir(sklearn) if '__' not in x]"
   ]
  },
  {
   "cell_type": "markdown",
   "metadata": {},
   "source": [
    "## Train Test Split"
   ]
  },
  {
   "cell_type": "code",
   "execution_count": 7,
   "metadata": {},
   "outputs": [],
   "source": [
    "from sklearn.model_selection import train_test_split"
   ]
  },
  {
   "cell_type": "code",
   "execution_count": 8,
   "metadata": {},
   "outputs": [],
   "source": [
    "X_train, X_test, y_train, y_test = train_test_split(X, y, test_size = 0.2, random_state = 0)"
   ]
  },
  {
   "cell_type": "markdown",
   "metadata": {},
   "source": [
    "## Dummy Variable generation"
   ]
  },
  {
   "cell_type": "code",
   "execution_count": 9,
   "metadata": {},
   "outputs": [],
   "source": [
    "from sklearn.preprocessing import OneHotEncoder"
   ]
  },
  {
   "cell_type": "code",
   "execution_count": 10,
   "metadata": {},
   "outputs": [],
   "source": [
    "from sklearn.compose import make_column_transformer"
   ]
  },
  {
   "cell_type": "code",
   "execution_count": 11,
   "metadata": {},
   "outputs": [
    {
     "data": {
      "text/html": [
       "<div>\n",
       "<style scoped>\n",
       "    .dataframe tbody tr th:only-of-type {\n",
       "        vertical-align: middle;\n",
       "    }\n",
       "\n",
       "    .dataframe tbody tr th {\n",
       "        vertical-align: top;\n",
       "    }\n",
       "\n",
       "    .dataframe thead th {\n",
       "        text-align: right;\n",
       "    }\n",
       "</style>\n",
       "<table border=\"1\" class=\"dataframe\">\n",
       "  <thead>\n",
       "    <tr style=\"text-align: right;\">\n",
       "      <th></th>\n",
       "      <th>CreditScore</th>\n",
       "      <th>Geography</th>\n",
       "      <th>Gender</th>\n",
       "      <th>Age</th>\n",
       "      <th>Tenure</th>\n",
       "      <th>Balance</th>\n",
       "      <th>NumOfProducts</th>\n",
       "      <th>HasCrCard</th>\n",
       "      <th>IsActiveMember</th>\n",
       "      <th>EstimatedSalary</th>\n",
       "    </tr>\n",
       "  </thead>\n",
       "  <tbody>\n",
       "    <tr>\n",
       "      <th>7389</th>\n",
       "      <td>667</td>\n",
       "      <td>Spain</td>\n",
       "      <td>Female</td>\n",
       "      <td>34</td>\n",
       "      <td>5</td>\n",
       "      <td>0.00</td>\n",
       "      <td>2</td>\n",
       "      <td>1</td>\n",
       "      <td>0</td>\n",
       "      <td>163830.64</td>\n",
       "    </tr>\n",
       "    <tr>\n",
       "      <th>9275</th>\n",
       "      <td>427</td>\n",
       "      <td>Germany</td>\n",
       "      <td>Male</td>\n",
       "      <td>42</td>\n",
       "      <td>1</td>\n",
       "      <td>75681.52</td>\n",
       "      <td>1</td>\n",
       "      <td>1</td>\n",
       "      <td>1</td>\n",
       "      <td>57098.00</td>\n",
       "    </tr>\n",
       "    <tr>\n",
       "      <th>2995</th>\n",
       "      <td>535</td>\n",
       "      <td>France</td>\n",
       "      <td>Female</td>\n",
       "      <td>29</td>\n",
       "      <td>2</td>\n",
       "      <td>112367.34</td>\n",
       "      <td>1</td>\n",
       "      <td>1</td>\n",
       "      <td>0</td>\n",
       "      <td>185630.76</td>\n",
       "    </tr>\n",
       "    <tr>\n",
       "      <th>5316</th>\n",
       "      <td>654</td>\n",
       "      <td>Spain</td>\n",
       "      <td>Male</td>\n",
       "      <td>40</td>\n",
       "      <td>5</td>\n",
       "      <td>105683.63</td>\n",
       "      <td>1</td>\n",
       "      <td>1</td>\n",
       "      <td>0</td>\n",
       "      <td>173617.09</td>\n",
       "    </tr>\n",
       "    <tr>\n",
       "      <th>356</th>\n",
       "      <td>850</td>\n",
       "      <td>Spain</td>\n",
       "      <td>Female</td>\n",
       "      <td>57</td>\n",
       "      <td>8</td>\n",
       "      <td>126776.30</td>\n",
       "      <td>2</td>\n",
       "      <td>1</td>\n",
       "      <td>1</td>\n",
       "      <td>132298.49</td>\n",
       "    </tr>\n",
       "  </tbody>\n",
       "</table>\n",
       "</div>"
      ],
      "text/plain": [
       "      CreditScore Geography  Gender  Age  Tenure    Balance  NumOfProducts  \\\n",
       "7389          667     Spain  Female   34       5       0.00              2   \n",
       "9275          427   Germany    Male   42       1   75681.52              1   \n",
       "2995          535    France  Female   29       2  112367.34              1   \n",
       "5316          654     Spain    Male   40       5  105683.63              1   \n",
       "356           850     Spain  Female   57       8  126776.30              2   \n",
       "\n",
       "      HasCrCard  IsActiveMember  EstimatedSalary  \n",
       "7389          1               0        163830.64  \n",
       "9275          1               1         57098.00  \n",
       "2995          1               0        185630.76  \n",
       "5316          1               0        173617.09  \n",
       "356           1               1        132298.49  "
      ]
     },
     "execution_count": 11,
     "metadata": {},
     "output_type": "execute_result"
    }
   ],
   "source": [
    "X_train.head()"
   ]
  },
  {
   "cell_type": "code",
   "execution_count": 12,
   "metadata": {},
   "outputs": [],
   "source": [
    "column_trans = make_column_transformer((OneHotEncoder(drop='first'), ['Geography', 'Gender'])\n",
    "                                       , remainder='passthrough')"
   ]
  },
  {
   "cell_type": "code",
   "execution_count": 13,
   "metadata": {},
   "outputs": [
    {
     "data": {
      "text/html": [
       "<div>\n",
       "<style scoped>\n",
       "    .dataframe tbody tr th:only-of-type {\n",
       "        vertical-align: middle;\n",
       "    }\n",
       "\n",
       "    .dataframe tbody tr th {\n",
       "        vertical-align: top;\n",
       "    }\n",
       "\n",
       "    .dataframe thead th {\n",
       "        text-align: right;\n",
       "    }\n",
       "</style>\n",
       "<table border=\"1\" class=\"dataframe\">\n",
       "  <thead>\n",
       "    <tr style=\"text-align: right;\">\n",
       "      <th></th>\n",
       "      <th>0</th>\n",
       "      <th>1</th>\n",
       "      <th>2</th>\n",
       "      <th>3</th>\n",
       "      <th>4</th>\n",
       "      <th>5</th>\n",
       "      <th>6</th>\n",
       "      <th>7</th>\n",
       "      <th>8</th>\n",
       "      <th>9</th>\n",
       "      <th>10</th>\n",
       "    </tr>\n",
       "  </thead>\n",
       "  <tbody>\n",
       "    <tr>\n",
       "      <th>0</th>\n",
       "      <td>0.0</td>\n",
       "      <td>1.0</td>\n",
       "      <td>0.0</td>\n",
       "      <td>667.0</td>\n",
       "      <td>34.0</td>\n",
       "      <td>5.0</td>\n",
       "      <td>0.00</td>\n",
       "      <td>2.0</td>\n",
       "      <td>1.0</td>\n",
       "      <td>0.0</td>\n",
       "      <td>163830.64</td>\n",
       "    </tr>\n",
       "    <tr>\n",
       "      <th>1</th>\n",
       "      <td>1.0</td>\n",
       "      <td>0.0</td>\n",
       "      <td>1.0</td>\n",
       "      <td>427.0</td>\n",
       "      <td>42.0</td>\n",
       "      <td>1.0</td>\n",
       "      <td>75681.52</td>\n",
       "      <td>1.0</td>\n",
       "      <td>1.0</td>\n",
       "      <td>1.0</td>\n",
       "      <td>57098.00</td>\n",
       "    </tr>\n",
       "    <tr>\n",
       "      <th>2</th>\n",
       "      <td>0.0</td>\n",
       "      <td>0.0</td>\n",
       "      <td>0.0</td>\n",
       "      <td>535.0</td>\n",
       "      <td>29.0</td>\n",
       "      <td>2.0</td>\n",
       "      <td>112367.34</td>\n",
       "      <td>1.0</td>\n",
       "      <td>1.0</td>\n",
       "      <td>0.0</td>\n",
       "      <td>185630.76</td>\n",
       "    </tr>\n",
       "    <tr>\n",
       "      <th>3</th>\n",
       "      <td>0.0</td>\n",
       "      <td>1.0</td>\n",
       "      <td>1.0</td>\n",
       "      <td>654.0</td>\n",
       "      <td>40.0</td>\n",
       "      <td>5.0</td>\n",
       "      <td>105683.63</td>\n",
       "      <td>1.0</td>\n",
       "      <td>1.0</td>\n",
       "      <td>0.0</td>\n",
       "      <td>173617.09</td>\n",
       "    </tr>\n",
       "    <tr>\n",
       "      <th>4</th>\n",
       "      <td>0.0</td>\n",
       "      <td>1.0</td>\n",
       "      <td>0.0</td>\n",
       "      <td>850.0</td>\n",
       "      <td>57.0</td>\n",
       "      <td>8.0</td>\n",
       "      <td>126776.30</td>\n",
       "      <td>2.0</td>\n",
       "      <td>1.0</td>\n",
       "      <td>1.0</td>\n",
       "      <td>132298.49</td>\n",
       "    </tr>\n",
       "    <tr>\n",
       "      <th>...</th>\n",
       "      <td>...</td>\n",
       "      <td>...</td>\n",
       "      <td>...</td>\n",
       "      <td>...</td>\n",
       "      <td>...</td>\n",
       "      <td>...</td>\n",
       "      <td>...</td>\n",
       "      <td>...</td>\n",
       "      <td>...</td>\n",
       "      <td>...</td>\n",
       "      <td>...</td>\n",
       "    </tr>\n",
       "    <tr>\n",
       "      <th>7995</th>\n",
       "      <td>1.0</td>\n",
       "      <td>0.0</td>\n",
       "      <td>0.0</td>\n",
       "      <td>594.0</td>\n",
       "      <td>32.0</td>\n",
       "      <td>4.0</td>\n",
       "      <td>120074.97</td>\n",
       "      <td>2.0</td>\n",
       "      <td>1.0</td>\n",
       "      <td>1.0</td>\n",
       "      <td>162961.79</td>\n",
       "    </tr>\n",
       "    <tr>\n",
       "      <th>7996</th>\n",
       "      <td>0.0</td>\n",
       "      <td>1.0</td>\n",
       "      <td>0.0</td>\n",
       "      <td>794.0</td>\n",
       "      <td>22.0</td>\n",
       "      <td>4.0</td>\n",
       "      <td>114440.24</td>\n",
       "      <td>1.0</td>\n",
       "      <td>1.0</td>\n",
       "      <td>1.0</td>\n",
       "      <td>107753.07</td>\n",
       "    </tr>\n",
       "    <tr>\n",
       "      <th>7997</th>\n",
       "      <td>0.0</td>\n",
       "      <td>0.0</td>\n",
       "      <td>1.0</td>\n",
       "      <td>738.0</td>\n",
       "      <td>35.0</td>\n",
       "      <td>5.0</td>\n",
       "      <td>161274.05</td>\n",
       "      <td>2.0</td>\n",
       "      <td>1.0</td>\n",
       "      <td>0.0</td>\n",
       "      <td>181429.87</td>\n",
       "    </tr>\n",
       "    <tr>\n",
       "      <th>7998</th>\n",
       "      <td>0.0</td>\n",
       "      <td>1.0</td>\n",
       "      <td>0.0</td>\n",
       "      <td>590.0</td>\n",
       "      <td>38.0</td>\n",
       "      <td>9.0</td>\n",
       "      <td>0.00</td>\n",
       "      <td>2.0</td>\n",
       "      <td>1.0</td>\n",
       "      <td>1.0</td>\n",
       "      <td>148750.16</td>\n",
       "    </tr>\n",
       "    <tr>\n",
       "      <th>7999</th>\n",
       "      <td>1.0</td>\n",
       "      <td>0.0</td>\n",
       "      <td>0.0</td>\n",
       "      <td>623.0</td>\n",
       "      <td>48.0</td>\n",
       "      <td>1.0</td>\n",
       "      <td>108076.33</td>\n",
       "      <td>1.0</td>\n",
       "      <td>1.0</td>\n",
       "      <td>0.0</td>\n",
       "      <td>118855.26</td>\n",
       "    </tr>\n",
       "  </tbody>\n",
       "</table>\n",
       "<p>8000 rows × 11 columns</p>\n",
       "</div>"
      ],
      "text/plain": [
       "        0    1    2      3     4    5          6    7    8    9         10\n",
       "0     0.0  1.0  0.0  667.0  34.0  5.0       0.00  2.0  1.0  0.0  163830.64\n",
       "1     1.0  0.0  1.0  427.0  42.0  1.0   75681.52  1.0  1.0  1.0   57098.00\n",
       "2     0.0  0.0  0.0  535.0  29.0  2.0  112367.34  1.0  1.0  0.0  185630.76\n",
       "3     0.0  1.0  1.0  654.0  40.0  5.0  105683.63  1.0  1.0  0.0  173617.09\n",
       "4     0.0  1.0  0.0  850.0  57.0  8.0  126776.30  2.0  1.0  1.0  132298.49\n",
       "...   ...  ...  ...    ...   ...  ...        ...  ...  ...  ...        ...\n",
       "7995  1.0  0.0  0.0  594.0  32.0  4.0  120074.97  2.0  1.0  1.0  162961.79\n",
       "7996  0.0  1.0  0.0  794.0  22.0  4.0  114440.24  1.0  1.0  1.0  107753.07\n",
       "7997  0.0  0.0  1.0  738.0  35.0  5.0  161274.05  2.0  1.0  0.0  181429.87\n",
       "7998  0.0  1.0  0.0  590.0  38.0  9.0       0.00  2.0  1.0  1.0  148750.16\n",
       "7999  1.0  0.0  0.0  623.0  48.0  1.0  108076.33  1.0  1.0  0.0  118855.26\n",
       "\n",
       "[8000 rows x 11 columns]"
      ]
     },
     "execution_count": 13,
     "metadata": {},
     "output_type": "execute_result"
    }
   ],
   "source": [
    "# DataFrame helps me visualize the data better! :)\n",
    "pd.DataFrame(column_trans.fit_transform(X_train))"
   ]
  },
  {
   "cell_type": "code",
   "execution_count": 14,
   "metadata": {},
   "outputs": [],
   "source": [
    "X_train = column_trans.fit_transform(X_train)"
   ]
  },
  {
   "cell_type": "markdown",
   "metadata": {},
   "source": [
    "## Feature Scaling"
   ]
  },
  {
   "cell_type": "code",
   "execution_count": 15,
   "metadata": {},
   "outputs": [],
   "source": [
    "from sklearn.preprocessing import StandardScaler"
   ]
  },
  {
   "cell_type": "code",
   "execution_count": 16,
   "metadata": {},
   "outputs": [],
   "source": [
    "sc = StandardScaler()"
   ]
  },
  {
   "cell_type": "code",
   "execution_count": 17,
   "metadata": {},
   "outputs": [
    {
     "data": {
      "text/html": [
       "<div>\n",
       "<style scoped>\n",
       "    .dataframe tbody tr th:only-of-type {\n",
       "        vertical-align: middle;\n",
       "    }\n",
       "\n",
       "    .dataframe tbody tr th {\n",
       "        vertical-align: top;\n",
       "    }\n",
       "\n",
       "    .dataframe thead th {\n",
       "        text-align: right;\n",
       "    }\n",
       "</style>\n",
       "<table border=\"1\" class=\"dataframe\">\n",
       "  <thead>\n",
       "    <tr style=\"text-align: right;\">\n",
       "      <th></th>\n",
       "      <th>0</th>\n",
       "      <th>1</th>\n",
       "      <th>2</th>\n",
       "      <th>3</th>\n",
       "      <th>4</th>\n",
       "      <th>5</th>\n",
       "      <th>6</th>\n",
       "      <th>7</th>\n",
       "      <th>8</th>\n",
       "      <th>9</th>\n",
       "      <th>10</th>\n",
       "    </tr>\n",
       "  </thead>\n",
       "  <tbody>\n",
       "    <tr>\n",
       "      <th>0</th>\n",
       "      <td>-0.569844</td>\n",
       "      <td>1.743090</td>\n",
       "      <td>-1.091687</td>\n",
       "      <td>0.169582</td>\n",
       "      <td>-0.464608</td>\n",
       "      <td>0.006661</td>\n",
       "      <td>-1.215717</td>\n",
       "      <td>0.809503</td>\n",
       "      <td>0.642595</td>\n",
       "      <td>-1.032270</td>\n",
       "      <td>1.106432</td>\n",
       "    </tr>\n",
       "    <tr>\n",
       "      <th>1</th>\n",
       "      <td>1.754865</td>\n",
       "      <td>-0.573694</td>\n",
       "      <td>0.916013</td>\n",
       "      <td>-2.304559</td>\n",
       "      <td>0.301026</td>\n",
       "      <td>-1.377440</td>\n",
       "      <td>-0.006312</td>\n",
       "      <td>-0.921591</td>\n",
       "      <td>0.642595</td>\n",
       "      <td>0.968738</td>\n",
       "      <td>-0.748664</td>\n",
       "    </tr>\n",
       "    <tr>\n",
       "      <th>2</th>\n",
       "      <td>-0.569844</td>\n",
       "      <td>-0.573694</td>\n",
       "      <td>-1.091687</td>\n",
       "      <td>-1.191196</td>\n",
       "      <td>-0.943129</td>\n",
       "      <td>-1.031415</td>\n",
       "      <td>0.579935</td>\n",
       "      <td>-0.921591</td>\n",
       "      <td>0.642595</td>\n",
       "      <td>-1.032270</td>\n",
       "      <td>1.485335</td>\n",
       "    </tr>\n",
       "    <tr>\n",
       "      <th>3</th>\n",
       "      <td>-0.569844</td>\n",
       "      <td>1.743090</td>\n",
       "      <td>0.916013</td>\n",
       "      <td>0.035566</td>\n",
       "      <td>0.109617</td>\n",
       "      <td>0.006661</td>\n",
       "      <td>0.473128</td>\n",
       "      <td>-0.921591</td>\n",
       "      <td>0.642595</td>\n",
       "      <td>-1.032270</td>\n",
       "      <td>1.276528</td>\n",
       "    </tr>\n",
       "    <tr>\n",
       "      <th>4</th>\n",
       "      <td>-0.569844</td>\n",
       "      <td>1.743090</td>\n",
       "      <td>-1.091687</td>\n",
       "      <td>2.056114</td>\n",
       "      <td>1.736588</td>\n",
       "      <td>1.044737</td>\n",
       "      <td>0.810193</td>\n",
       "      <td>0.809503</td>\n",
       "      <td>0.642595</td>\n",
       "      <td>0.968738</td>\n",
       "      <td>0.558378</td>\n",
       "    </tr>\n",
       "    <tr>\n",
       "      <th>...</th>\n",
       "      <td>...</td>\n",
       "      <td>...</td>\n",
       "      <td>...</td>\n",
       "      <td>...</td>\n",
       "      <td>...</td>\n",
       "      <td>...</td>\n",
       "      <td>...</td>\n",
       "      <td>...</td>\n",
       "      <td>...</td>\n",
       "      <td>...</td>\n",
       "      <td>...</td>\n",
       "    </tr>\n",
       "    <tr>\n",
       "      <th>7995</th>\n",
       "      <td>1.754865</td>\n",
       "      <td>-0.573694</td>\n",
       "      <td>-1.091687</td>\n",
       "      <td>-0.582970</td>\n",
       "      <td>-0.656016</td>\n",
       "      <td>-0.339364</td>\n",
       "      <td>0.703104</td>\n",
       "      <td>0.809503</td>\n",
       "      <td>0.642595</td>\n",
       "      <td>0.968738</td>\n",
       "      <td>1.091330</td>\n",
       "    </tr>\n",
       "    <tr>\n",
       "      <th>7996</th>\n",
       "      <td>-0.569844</td>\n",
       "      <td>1.743090</td>\n",
       "      <td>-1.091687</td>\n",
       "      <td>1.478815</td>\n",
       "      <td>-1.613058</td>\n",
       "      <td>-0.339364</td>\n",
       "      <td>0.613060</td>\n",
       "      <td>-0.921591</td>\n",
       "      <td>0.642595</td>\n",
       "      <td>0.968738</td>\n",
       "      <td>0.131760</td>\n",
       "    </tr>\n",
       "    <tr>\n",
       "      <th>7997</th>\n",
       "      <td>-0.569844</td>\n",
       "      <td>-0.573694</td>\n",
       "      <td>0.916013</td>\n",
       "      <td>0.901515</td>\n",
       "      <td>-0.368904</td>\n",
       "      <td>0.006661</td>\n",
       "      <td>1.361474</td>\n",
       "      <td>0.809503</td>\n",
       "      <td>0.642595</td>\n",
       "      <td>-1.032270</td>\n",
       "      <td>1.412320</td>\n",
       "    </tr>\n",
       "    <tr>\n",
       "      <th>7998</th>\n",
       "      <td>-0.569844</td>\n",
       "      <td>1.743090</td>\n",
       "      <td>-1.091687</td>\n",
       "      <td>-0.624205</td>\n",
       "      <td>-0.081791</td>\n",
       "      <td>1.390762</td>\n",
       "      <td>-1.215717</td>\n",
       "      <td>0.809503</td>\n",
       "      <td>0.642595</td>\n",
       "      <td>0.968738</td>\n",
       "      <td>0.844321</td>\n",
       "    </tr>\n",
       "    <tr>\n",
       "      <th>7999</th>\n",
       "      <td>1.754865</td>\n",
       "      <td>-0.573694</td>\n",
       "      <td>-1.091687</td>\n",
       "      <td>-0.284011</td>\n",
       "      <td>0.875251</td>\n",
       "      <td>-1.377440</td>\n",
       "      <td>0.511364</td>\n",
       "      <td>-0.921591</td>\n",
       "      <td>0.642595</td>\n",
       "      <td>-1.032270</td>\n",
       "      <td>0.324725</td>\n",
       "    </tr>\n",
       "  </tbody>\n",
       "</table>\n",
       "<p>8000 rows × 11 columns</p>\n",
       "</div>"
      ],
      "text/plain": [
       "             0         1         2         3         4         5         6  \\\n",
       "0    -0.569844  1.743090 -1.091687  0.169582 -0.464608  0.006661 -1.215717   \n",
       "1     1.754865 -0.573694  0.916013 -2.304559  0.301026 -1.377440 -0.006312   \n",
       "2    -0.569844 -0.573694 -1.091687 -1.191196 -0.943129 -1.031415  0.579935   \n",
       "3    -0.569844  1.743090  0.916013  0.035566  0.109617  0.006661  0.473128   \n",
       "4    -0.569844  1.743090 -1.091687  2.056114  1.736588  1.044737  0.810193   \n",
       "...        ...       ...       ...       ...       ...       ...       ...   \n",
       "7995  1.754865 -0.573694 -1.091687 -0.582970 -0.656016 -0.339364  0.703104   \n",
       "7996 -0.569844  1.743090 -1.091687  1.478815 -1.613058 -0.339364  0.613060   \n",
       "7997 -0.569844 -0.573694  0.916013  0.901515 -0.368904  0.006661  1.361474   \n",
       "7998 -0.569844  1.743090 -1.091687 -0.624205 -0.081791  1.390762 -1.215717   \n",
       "7999  1.754865 -0.573694 -1.091687 -0.284011  0.875251 -1.377440  0.511364   \n",
       "\n",
       "             7         8         9        10  \n",
       "0     0.809503  0.642595 -1.032270  1.106432  \n",
       "1    -0.921591  0.642595  0.968738 -0.748664  \n",
       "2    -0.921591  0.642595 -1.032270  1.485335  \n",
       "3    -0.921591  0.642595 -1.032270  1.276528  \n",
       "4     0.809503  0.642595  0.968738  0.558378  \n",
       "...        ...       ...       ...       ...  \n",
       "7995  0.809503  0.642595  0.968738  1.091330  \n",
       "7996 -0.921591  0.642595  0.968738  0.131760  \n",
       "7997  0.809503  0.642595 -1.032270  1.412320  \n",
       "7998  0.809503  0.642595  0.968738  0.844321  \n",
       "7999 -0.921591  0.642595 -1.032270  0.324725  \n",
       "\n",
       "[8000 rows x 11 columns]"
      ]
     },
     "execution_count": 17,
     "metadata": {},
     "output_type": "execute_result"
    }
   ],
   "source": [
    "pd.DataFrame(sc.fit_transform(X_train))"
   ]
  },
  {
   "cell_type": "code",
   "execution_count": 18,
   "metadata": {},
   "outputs": [],
   "source": [
    "X_train = sc.fit_transform(X_train)"
   ]
  },
  {
   "cell_type": "code",
   "execution_count": 19,
   "metadata": {},
   "outputs": [
    {
     "data": {
      "text/plain": [
       "array([[-0.5698444 ,  1.74309049, -1.09168714, ...,  0.64259497,\n",
       "        -1.03227043,  1.10643166],\n",
       "       [ 1.75486502, -0.57369368,  0.91601335, ...,  0.64259497,\n",
       "         0.9687384 , -0.74866447],\n",
       "       [-0.5698444 , -0.57369368, -1.09168714, ...,  0.64259497,\n",
       "        -1.03227043,  1.48533467],\n",
       "       ...,\n",
       "       [-0.5698444 , -0.57369368,  0.91601335, ...,  0.64259497,\n",
       "        -1.03227043,  1.41231994],\n",
       "       [-0.5698444 ,  1.74309049, -1.09168714, ...,  0.64259497,\n",
       "         0.9687384 ,  0.84432121],\n",
       "       [ 1.75486502, -0.57369368, -1.09168714, ...,  0.64259497,\n",
       "        -1.03227043,  0.32472465]])"
      ]
     },
     "execution_count": 19,
     "metadata": {},
     "output_type": "execute_result"
    }
   ],
   "source": [
    "X_train"
   ]
  },
  {
   "cell_type": "code",
   "execution_count": 20,
   "metadata": {},
   "outputs": [],
   "source": [
    "# Transforming the test data as well\n",
    "X_test = column_trans.transform(X_test)\n",
    "X_test = sc.transform(X_test)"
   ]
  },
  {
   "cell_type": "code",
   "execution_count": 21,
   "metadata": {},
   "outputs": [
    {
     "data": {
      "text/plain": [
       "array([[ 1.75486502, -0.57369368, -1.09168714, ...,  0.64259497,\n",
       "         0.9687384 ,  1.61085707],\n",
       "       [-0.5698444 , -0.57369368, -1.09168714, ...,  0.64259497,\n",
       "        -1.03227043,  0.49587037],\n",
       "       [-0.5698444 ,  1.74309049, -1.09168714, ...,  0.64259497,\n",
       "         0.9687384 , -0.42478674],\n",
       "       ...,\n",
       "       [-0.5698444 ,  1.74309049,  0.91601335, ...,  0.64259497,\n",
       "        -1.03227043,  0.71888467],\n",
       "       [ 1.75486502, -0.57369368,  0.91601335, ...,  0.64259497,\n",
       "         0.9687384 , -1.54507805],\n",
       "       [ 1.75486502, -0.57369368,  0.91601335, ...,  0.64259497,\n",
       "        -1.03227043,  1.61255917]])"
      ]
     },
     "execution_count": 21,
     "metadata": {},
     "output_type": "execute_result"
    }
   ],
   "source": [
    "X_test"
   ]
  },
  {
   "cell_type": "markdown",
   "metadata": {},
   "source": [
    "## Model Building"
   ]
  },
  {
   "cell_type": "code",
   "execution_count": 22,
   "metadata": {},
   "outputs": [
    {
     "name": "stderr",
     "output_type": "stream",
     "text": [
      "Using TensorFlow backend.\n"
     ]
    },
    {
     "data": {
      "text/plain": [
       "['Input',\n",
       " 'Model',\n",
       " 'Sequential',\n",
       " 'absolute_import',\n",
       " 'activations',\n",
       " 'applications',\n",
       " 'backend',\n",
       " 'callbacks',\n",
       " 'constraints',\n",
       " 'datasets',\n",
       " 'engine',\n",
       " 'initializers',\n",
       " 'layers',\n",
       " 'legacy',\n",
       " 'losses',\n",
       " 'metrics',\n",
       " 'models',\n",
       " 'optimizers',\n",
       " 'preprocessing',\n",
       " 'regularizers',\n",
       " 'utils',\n",
       " 'wrappers']"
      ]
     },
     "execution_count": 22,
     "metadata": {},
     "output_type": "execute_result"
    }
   ],
   "source": [
    "import keras\n",
    "[x for x in dir(keras) if '__' not in x]"
   ]
  },
  {
   "cell_type": "code",
   "execution_count": 23,
   "metadata": {},
   "outputs": [],
   "source": [
    "from keras.models import Sequential\n",
    "from keras.layers import Dense"
   ]
  },
  {
   "cell_type": "code",
   "execution_count": 24,
   "metadata": {},
   "outputs": [],
   "source": [
    "# Initializing ANN\n",
    "classifier = Sequential()"
   ]
  },
  {
   "cell_type": "code",
   "execution_count": 25,
   "metadata": {},
   "outputs": [
    {
     "data": {
      "text/plain": [
       "(8000, 11)"
      ]
     },
     "execution_count": 25,
     "metadata": {},
     "output_type": "execute_result"
    }
   ],
   "source": [
    "X_train.shape"
   ]
  },
  {
   "cell_type": "code",
   "execution_count": 26,
   "metadata": {},
   "outputs": [
    {
     "data": {
      "text/plain": [
       "(8000,)"
      ]
     },
     "execution_count": 26,
     "metadata": {},
     "output_type": "execute_result"
    }
   ],
   "source": [
    "y_train.values.shape"
   ]
  },
  {
   "cell_type": "code",
   "execution_count": 27,
   "metadata": {},
   "outputs": [],
   "source": [
    "# Adding Layers\n",
    "# Input layer and the first hidden layer\n",
    "classifier.add(Dense(units = 6, activation = 'relu'\n",
    "                     , kernel_initializer = 'uniform'\n",
    "                     , input_dim = X_train.shape[1])) \n",
    "# Choosing the units(number of nodes) to be 6 as that is the average of 11 and 1\n",
    "# Cause 'Not being an artist now!! :P'"
   ]
  },
  {
   "cell_type": "code",
   "execution_count": 28,
   "metadata": {},
   "outputs": [],
   "source": [
    "# Adding the second hidden layer\n",
    "classifier.add(Dense(units = 6, activation = 'relu'\n",
    "                     , kernel_initializer = 'uniform'))"
   ]
  },
  {
   "cell_type": "code",
   "execution_count": 29,
   "metadata": {},
   "outputs": [],
   "source": [
    "# Adding the output layer\n",
    "classifier.add(Dense(units = 1\n",
    "                     , kernel_initializer = 'uniform'\n",
    "                     , activation = 'sigmoid'))\n",
    "# Sigmoid as the activation function as it is a binary classifier"
   ]
  },
  {
   "cell_type": "code",
   "execution_count": 30,
   "metadata": {},
   "outputs": [],
   "source": [
    "# Compiling the ANN\n",
    "classifier.compile(optimizer='adam'\n",
    "                   , loss='binary_crossentropy'\n",
    "                   , metrics=['accuracy'])\n",
    "# Applying SGD algo to the entire network. Defining optimizer for weights \n",
    "# and loss as binary_crossentropy(binary classfier)"
   ]
  },
  {
   "cell_type": "code",
   "execution_count": 31,
   "metadata": {},
   "outputs": [
    {
     "name": "stdout",
     "output_type": "stream",
     "text": [
      "Epoch 1/100\n",
      "8000/8000 [==============================] - 2s 204us/step - loss: 0.4801 - accuracy: 0.79590s - loss: 0.4883 - accuracy\n",
      "Epoch 2/100\n",
      "8000/8000 [==============================] - 1s 167us/step - loss: 0.4187 - accuracy: 0.7960\n",
      "Epoch 3/100\n",
      "8000/8000 [==============================] - 1s 154us/step - loss: 0.4086 - accuracy: 0.7990\n",
      "Epoch 4/100\n",
      "8000/8000 [==============================] - 1s 159us/step - loss: 0.3982 - accuracy: 0.82990s - loss: 0\n",
      "Epoch 5/100\n",
      "8000/8000 [==============================] - 1s 179us/step - loss: 0.3898 - accuracy: 0.8281\n",
      "Epoch 6/100\n",
      "8000/8000 [==============================] - 1s 154us/step - loss: 0.3819 - accuracy: 0.8319\n",
      "Epoch 7/100\n",
      "8000/8000 [==============================] - 1s 158us/step - loss: 0.3752 - accuracy: 0.8429\n",
      "Epoch 8/100\n",
      "8000/8000 [==============================] - 1s 159us/step - loss: 0.3698 - accuracy: 0.8501\n",
      "Epoch 9/100\n",
      "8000/8000 [==============================] - 1s 164us/step - loss: 0.3657 - accuracy: 0.8496\n",
      "Epoch 10/100\n",
      "8000/8000 [==============================] - 1s 172us/step - loss: 0.3621 - accuracy: 0.8528\n",
      "Epoch 11/100\n",
      "8000/8000 [==============================] - 1s 162us/step - loss: 0.3596 - accuracy: 0.8540\n",
      "Epoch 12/100\n",
      "8000/8000 [==============================] - 1s 158us/step - loss: 0.3588 - accuracy: 0.8530\n",
      "Epoch 13/100\n",
      "8000/8000 [==============================] - 1s 160us/step - loss: 0.3576 - accuracy: 0.8528\n",
      "Epoch 14/100\n",
      "8000/8000 [==============================] - 1s 158us/step - loss: 0.3568 - accuracy: 0.8539\n",
      "Epoch 15/100\n",
      "8000/8000 [==============================] - 1s 160us/step - loss: 0.3558 - accuracy: 0.8537\n",
      "Epoch 16/100\n",
      "8000/8000 [==============================] - 1s 158us/step - loss: 0.3553 - accuracy: 0.8555\n",
      "Epoch 17/100\n",
      "8000/8000 [==============================] - 1s 157us/step - loss: 0.3549 - accuracy: 0.8531\n",
      "Epoch 18/100\n",
      "8000/8000 [==============================] - 1s 164us/step - loss: 0.3541 - accuracy: 0.8581\n",
      "Epoch 19/100\n",
      "8000/8000 [==============================] - 1s 187us/step - loss: 0.3528 - accuracy: 0.8554\n",
      "Epoch 20/100\n",
      "8000/8000 [==============================] - 2s 206us/step - loss: 0.3538 - accuracy: 0.8579\n",
      "Epoch 21/100\n",
      "8000/8000 [==============================] - 1s 141us/step - loss: 0.3523 - accuracy: 0.8551\n",
      "Epoch 22/100\n",
      "8000/8000 [==============================] - 1s 137us/step - loss: 0.3528 - accuracy: 0.8553\n",
      "Epoch 23/100\n",
      "8000/8000 [==============================] - 1s 144us/step - loss: 0.3509 - accuracy: 0.8562\n",
      "Epoch 24/100\n",
      "8000/8000 [==============================] - 1s 143us/step - loss: 0.3522 - accuracy: 0.8566\n",
      "Epoch 25/100\n",
      "8000/8000 [==============================] - 1s 158us/step - loss: 0.3514 - accuracy: 0.85641s -\n",
      "Epoch 26/100\n",
      "8000/8000 [==============================] - 1s 148us/step - loss: 0.3506 - accuracy: 0.8583\n",
      "Epoch 27/100\n",
      "8000/8000 [==============================] - 1s 173us/step - loss: 0.3493 - accuracy: 0.8550\n",
      "Epoch 28/100\n",
      "8000/8000 [==============================] - 2s 209us/step - loss: 0.3508 - accuracy: 0.8564\n",
      "Epoch 29/100\n",
      "8000/8000 [==============================] - 1s 176us/step - loss: 0.3498 - accuracy: 0.8586\n",
      "Epoch 30/100\n",
      "8000/8000 [==============================] - 1s 174us/step - loss: 0.3489 - accuracy: 0.8574\n",
      "Epoch 31/100\n",
      "8000/8000 [==============================] - 1s 160us/step - loss: 0.3489 - accuracy: 0.8591\n",
      "Epoch 32/100\n",
      "8000/8000 [==============================] - 2s 239us/step - loss: 0.3496 - accuracy: 0.8594\n",
      "Epoch 33/100\n",
      "8000/8000 [==============================] - 1s 170us/step - loss: 0.3486 - accuracy: 0.8577\n",
      "Epoch 34/100\n",
      "8000/8000 [==============================] - 1s 142us/step - loss: 0.3489 - accuracy: 0.8558\n",
      "Epoch 35/100\n",
      "8000/8000 [==============================] - 1s 139us/step - loss: 0.3487 - accuracy: 0.8583\n",
      "Epoch 36/100\n",
      "8000/8000 [==============================] - 1s 176us/step - loss: 0.3485 - accuracy: 0.8570\n",
      "Epoch 37/100\n",
      "8000/8000 [==============================] - 1s 180us/step - loss: 0.3475 - accuracy: 0.8575\n",
      "Epoch 38/100\n",
      "8000/8000 [==============================] - 1s 150us/step - loss: 0.3482 - accuracy: 0.8590\n",
      "Epoch 39/100\n",
      "8000/8000 [==============================] - 1s 156us/step - loss: 0.3478 - accuracy: 0.8585\n",
      "Epoch 40/100\n",
      "8000/8000 [==============================] - 1s 154us/step - loss: 0.3458 - accuracy: 0.8602\n",
      "Epoch 41/100\n",
      "8000/8000 [==============================] - 1s 152us/step - loss: 0.3475 - accuracy: 0.8585\n",
      "Epoch 42/100\n",
      "8000/8000 [==============================] - 1s 144us/step - loss: 0.3463 - accuracy: 0.8580\n",
      "Epoch 43/100\n",
      "8000/8000 [==============================] - 1s 145us/step - loss: 0.3469 - accuracy: 0.8590\n",
      "Epoch 44/100\n",
      "8000/8000 [==============================] - 1s 141us/step - loss: 0.3461 - accuracy: 0.8593\n",
      "Epoch 45/100\n",
      "8000/8000 [==============================] - 1s 146us/step - loss: 0.3460 - accuracy: 0.8597\n",
      "Epoch 46/100\n",
      "8000/8000 [==============================] - 1s 139us/step - loss: 0.3467 - accuracy: 0.8579\n",
      "Epoch 47/100\n",
      "8000/8000 [==============================] - 1s 138us/step - loss: 0.3450 - accuracy: 0.8596\n",
      "Epoch 48/100\n",
      "8000/8000 [==============================] - 1s 139us/step - loss: 0.3452 - accuracy: 0.8606\n",
      "Epoch 49/100\n",
      "8000/8000 [==============================] - 1s 153us/step - loss: 0.3457 - accuracy: 0.8602\n",
      "Epoch 50/100\n",
      "8000/8000 [==============================] - 2s 203us/step - loss: 0.3457 - accuracy: 0.8580\n",
      "Epoch 51/100\n",
      "8000/8000 [==============================] - 1s 168us/step - loss: 0.3458 - accuracy: 0.8577\n",
      "Epoch 52/100\n",
      "8000/8000 [==============================] - 2s 310us/step - loss: 0.3454 - accuracy: 0.8586\n",
      "Epoch 53/100\n",
      "8000/8000 [==============================] - 2s 298us/step - loss: 0.3451 - accuracy: 0.8585\n",
      "Epoch 54/100\n",
      "8000/8000 [==============================] - 2s 239us/step - loss: 0.3455 - accuracy: 0.8600\n",
      "Epoch 55/100\n",
      "8000/8000 [==============================] - 2s 262us/step - loss: 0.3454 - accuracy: 0.8575\n",
      "Epoch 56/100\n",
      "8000/8000 [==============================] - 2s 266us/step - loss: 0.3454 - accuracy: 0.8601\n",
      "Epoch 57/100\n",
      "8000/8000 [==============================] - 2s 228us/step - loss: 0.3453 - accuracy: 0.8585\n",
      "Epoch 58/100\n",
      "8000/8000 [==============================] - 2s 246us/step - loss: 0.3446 - accuracy: 0.8620\n",
      "Epoch 59/100\n",
      "8000/8000 [==============================] - 1s 167us/step - loss: 0.3449 - accuracy: 0.8594\n",
      "Epoch 60/100\n",
      "8000/8000 [==============================] - 2s 192us/step - loss: 0.3450 - accuracy: 0.8591\n",
      "Epoch 61/100\n",
      "8000/8000 [==============================] - 1s 164us/step - loss: 0.3438 - accuracy: 0.8597\n",
      "Epoch 62/100\n",
      "8000/8000 [==============================] - 2s 208us/step - loss: 0.3451 - accuracy: 0.8568\n",
      "Epoch 63/100\n",
      "8000/8000 [==============================] - 1s 147us/step - loss: 0.3442 - accuracy: 0.8583\n",
      "Epoch 64/100\n",
      "8000/8000 [==============================] - 2s 202us/step - loss: 0.3440 - accuracy: 0.8597\n",
      "Epoch 65/100\n",
      "8000/8000 [==============================] - 2s 256us/step - loss: 0.3443 - accuracy: 0.8599\n",
      "Epoch 66/100\n",
      "8000/8000 [==============================] - 2s 288us/step - loss: 0.3450 - accuracy: 0.8587\n",
      "Epoch 67/100\n",
      "8000/8000 [==============================] - 2s 222us/step - loss: 0.3445 - accuracy: 0.8586\n",
      "Epoch 68/100\n",
      "8000/8000 [==============================] - 1s 169us/step - loss: 0.3440 - accuracy: 0.8586\n",
      "Epoch 69/100\n",
      "8000/8000 [==============================] - 2s 301us/step - loss: 0.3430 - accuracy: 0.8581\n",
      "Epoch 70/100\n",
      "8000/8000 [==============================] - 2s 269us/step - loss: 0.3437 - accuracy: 0.8596\n",
      "Epoch 71/100\n",
      "8000/8000 [==============================] - 2s 224us/step - loss: 0.3441 - accuracy: 0.8594\n",
      "Epoch 72/100\n",
      "8000/8000 [==============================] - 1s 144us/step - loss: 0.3429 - accuracy: 0.8594\n",
      "Epoch 73/100\n",
      "8000/8000 [==============================] - 1s 150us/step - loss: 0.3444 - accuracy: 0.8584\n",
      "Epoch 74/100\n",
      "8000/8000 [==============================] - 1s 144us/step - loss: 0.3447 - accuracy: 0.8593\n",
      "Epoch 75/100\n",
      "8000/8000 [==============================] - 1s 143us/step - loss: 0.3439 - accuracy: 0.8593\n",
      "Epoch 76/100\n",
      "8000/8000 [==============================] - 1s 153us/step - loss: 0.3426 - accuracy: 0.8614\n",
      "Epoch 77/100\n",
      "8000/8000 [==============================] - 1s 156us/step - loss: 0.3440 - accuracy: 0.8601\n"
     ]
    },
    {
     "name": "stdout",
     "output_type": "stream",
     "text": [
      "Epoch 78/100\n",
      "8000/8000 [==============================] - 1s 144us/step - loss: 0.3434 - accuracy: 0.8600\n",
      "Epoch 79/100\n",
      "8000/8000 [==============================] - 1s 145us/step - loss: 0.3435 - accuracy: 0.8594\n",
      "Epoch 80/100\n",
      "8000/8000 [==============================] - 1s 127us/step - loss: 0.3430 - accuracy: 0.8599\n",
      "Epoch 81/100\n",
      "8000/8000 [==============================] - 1s 124us/step - loss: 0.3441 - accuracy: 0.8595\n",
      "Epoch 82/100\n",
      "8000/8000 [==============================] - 1s 123us/step - loss: 0.3432 - accuracy: 0.8590\n",
      "Epoch 83/100\n",
      "8000/8000 [==============================] - 1s 124us/step - loss: 0.3438 - accuracy: 0.8597\n",
      "Epoch 84/100\n",
      "8000/8000 [==============================] - 1s 125us/step - loss: 0.3436 - accuracy: 0.8570\n",
      "Epoch 85/100\n",
      "8000/8000 [==============================] - 1s 126us/step - loss: 0.3435 - accuracy: 0.8608\n",
      "Epoch 86/100\n",
      "8000/8000 [==============================] - 1s 123us/step - loss: 0.3435 - accuracy: 0.8589\n",
      "Epoch 87/100\n",
      "8000/8000 [==============================] - 1s 123us/step - loss: 0.3432 - accuracy: 0.8611\n",
      "Epoch 88/100\n",
      "8000/8000 [==============================] - 1s 123us/step - loss: 0.3430 - accuracy: 0.8609\n",
      "Epoch 89/100\n",
      "8000/8000 [==============================] - 1s 123us/step - loss: 0.3431 - accuracy: 0.8580\n",
      "Epoch 90/100\n",
      "8000/8000 [==============================] - 1s 123us/step - loss: 0.3427 - accuracy: 0.8593\n",
      "Epoch 91/100\n",
      "8000/8000 [==============================] - 1s 123us/step - loss: 0.3428 - accuracy: 0.8593\n",
      "Epoch 92/100\n",
      "8000/8000 [==============================] - 1s 125us/step - loss: 0.3429 - accuracy: 0.8601\n",
      "Epoch 93/100\n",
      "8000/8000 [==============================] - 1s 124us/step - loss: 0.3428 - accuracy: 0.8602\n",
      "Epoch 94/100\n",
      "8000/8000 [==============================] - 1s 124us/step - loss: 0.3432 - accuracy: 0.8601\n",
      "Epoch 95/100\n",
      "8000/8000 [==============================] - 1s 130us/step - loss: 0.3428 - accuracy: 0.8595\n",
      "Epoch 96/100\n",
      "8000/8000 [==============================] - 1s 130us/step - loss: 0.3431 - accuracy: 0.8587\n",
      "Epoch 97/100\n",
      "8000/8000 [==============================] - 1s 124us/step - loss: 0.3428 - accuracy: 0.8599\n",
      "Epoch 98/100\n",
      "8000/8000 [==============================] - 1s 123us/step - loss: 0.3431 - accuracy: 0.8599\n",
      "Epoch 99/100\n",
      "8000/8000 [==============================] - 1s 123us/step - loss: 0.3426 - accuracy: 0.8583\n",
      "Epoch 100/100\n",
      "8000/8000 [==============================] - 1s 124us/step - loss: 0.3433 - accuracy: 0.8589\n"
     ]
    },
    {
     "data": {
      "text/plain": [
       "<keras.callbacks.callbacks.History at 0x1a3a31cd90>"
      ]
     },
     "execution_count": 31,
     "metadata": {},
     "output_type": "execute_result"
    }
   ],
   "source": [
    "# Fitting the ANN to the Training set\n",
    "classifier.fit(x = X_train, y = y_train\n",
    "               , batch_size = 10\n",
    "               , epochs = 100\n",
    "               , verbose = 1)"
   ]
  },
  {
   "cell_type": "markdown",
   "metadata": {},
   "source": [
    "## RW"
   ]
  },
  {
   "cell_type": "code",
   "execution_count": null,
   "metadata": {},
   "outputs": [],
   "source": [
    "# Predicting the Test set results\n",
    "y_pred = classifier.predict(X_test)\n",
    "y_pred = (y_pred > 0.5)"
   ]
  },
  {
   "cell_type": "code",
   "execution_count": 32,
   "metadata": {},
   "outputs": [
    {
     "data": {
      "text/plain": [
       "array([[0.3116155 ],\n",
       "       [0.3804688 ],\n",
       "       [0.16958803],\n",
       "       ...,\n",
       "       [0.15399605],\n",
       "       [0.19148187],\n",
       "       [0.22186567]], dtype=float32)"
      ]
     },
     "execution_count": 32,
     "metadata": {},
     "output_type": "execute_result"
    }
   ],
   "source": [
    "classifier.predict(X_test) #Check when applying softmax in the output layer O.o Shouldn't give proba ideally!"
   ]
  },
  {
   "cell_type": "code",
   "execution_count": 33,
   "metadata": {},
   "outputs": [
    {
     "data": {
      "text/plain": [
       "array([[0.3116155 ],\n",
       "       [0.3804688 ],\n",
       "       [0.16958803],\n",
       "       ...,\n",
       "       [0.15399605],\n",
       "       [0.19148187],\n",
       "       [0.22186567]], dtype=float32)"
      ]
     },
     "execution_count": 33,
     "metadata": {},
     "output_type": "execute_result"
    }
   ],
   "source": [
    "classifier.predict_proba(X_test)"
   ]
  },
  {
   "cell_type": "code",
   "execution_count": 34,
   "metadata": {},
   "outputs": [
    {
     "name": "stdout",
     "output_type": "stream",
     "text": [
      "2000/2000 [==============================] - 0s 23us/step\n"
     ]
    },
    {
     "data": {
      "text/plain": [
       "0    1701\n",
       "1     299\n",
       "Name: 0, dtype: int64"
      ]
     },
     "execution_count": 34,
     "metadata": {},
     "output_type": "execute_result"
    }
   ],
   "source": [
    "pd.DataFrame(classifier.predict_classes(X_test, verbose=1))[0].value_counts()"
   ]
  },
  {
   "cell_type": "code",
   "execution_count": 35,
   "metadata": {},
   "outputs": [
    {
     "data": {
      "text/plain": [
       "0    1701\n",
       "1     299\n",
       "dtype: int64"
      ]
     },
     "execution_count": 35,
     "metadata": {},
     "output_type": "execute_result"
    }
   ],
   "source": [
    "pd.Series(np.where(((classifier.predict(X_test)) > .5).reshape(2000,)==False, 0, 1)).value_counts()"
   ]
  },
  {
   "cell_type": "markdown",
   "metadata": {},
   "source": [
    "## Predicting"
   ]
  },
  {
   "cell_type": "code",
   "execution_count": 36,
   "metadata": {},
   "outputs": [],
   "source": [
    "# Predicting the Test set results\n",
    "y_pred = classifier.predict_classes(X_test)"
   ]
  },
  {
   "cell_type": "markdown",
   "metadata": {},
   "source": [
    "## Confusion Matrix"
   ]
  },
  {
   "cell_type": "code",
   "execution_count": 37,
   "metadata": {},
   "outputs": [],
   "source": [
    "from sklearn.metrics import confusion_matrix"
   ]
  },
  {
   "cell_type": "code",
   "execution_count": 38,
   "metadata": {},
   "outputs": [
    {
     "data": {
      "text/plain": [
       "array([[1508,   87],\n",
       "       [ 193,  212]])"
      ]
     },
     "execution_count": 38,
     "metadata": {},
     "output_type": "execute_result"
    }
   ],
   "source": [
    "confusion_matrix(y_true=y_test, y_pred=y_pred)"
   ]
  },
  {
   "cell_type": "markdown",
   "metadata": {},
   "source": [
    "## Accuracy"
   ]
  },
  {
   "cell_type": "code",
   "execution_count": 40,
   "metadata": {},
   "outputs": [
    {
     "name": "stdout",
     "output_type": "stream",
     "text": [
      "The accuracy is: 86.0%\n"
     ]
    }
   ],
   "source": [
    "tptn=0\n",
    "for i in range(2):\n",
    "    tptn = tptn + confusion_matrix(y_true=y_test, y_pred=y_pred)[i][i]\n",
    "print(\"The accuracy is: \",tptn/y_test.shape[0]*100, \"%\", sep='')"
   ]
  },
  {
   "cell_type": "markdown",
   "metadata": {},
   "source": [
    "## Saving the model"
   ]
  },
  {
   "cell_type": "code",
   "execution_count": 44,
   "metadata": {},
   "outputs": [],
   "source": [
    "# Saving the model for reloading later\n",
    "import pickle\n",
    "filename = 'ANN_model.sav'\n",
    "pickle.dump(classifier, open(filename, 'wb'))"
   ]
  },
  {
   "cell_type": "code",
   "execution_count": 106,
   "metadata": {},
   "outputs": [],
   "source": [
    "classifier = pickle.load(open(filename, 'rb'))"
   ]
  },
  {
   "cell_type": "code",
   "execution_count": 113,
   "metadata": {},
   "outputs": [
    {
     "data": {
      "text/plain": [
       "array([[0],\n",
       "       [0],\n",
       "       [0],\n",
       "       ...,\n",
       "       [0],\n",
       "       [0],\n",
       "       [0]], dtype=int32)"
      ]
     },
     "execution_count": 113,
     "metadata": {},
     "output_type": "execute_result"
    }
   ],
   "source": [
    "classifier.predict_classes(X_test)"
   ]
  },
  {
   "cell_type": "markdown",
   "metadata": {},
   "source": [
    "## Creating a sample test to run the model on"
   ]
  },
  {
   "cell_type": "code",
   "execution_count": 70,
   "metadata": {},
   "outputs": [
    {
     "data": {
      "text/plain": [
       "Index(['RowNumber', 'CustomerId', 'Surname', 'CreditScore', 'Geography',\n",
       "       'Gender', 'Age', 'Tenure', 'Balance', 'NumOfProducts', 'HasCrCard',\n",
       "       'IsActiveMember', 'EstimatedSalary', 'Exited'],\n",
       "      dtype='object')"
      ]
     },
     "execution_count": 70,
     "metadata": {},
     "output_type": "execute_result"
    }
   ],
   "source": [
    "df.columns"
   ]
  },
  {
   "cell_type": "code",
   "execution_count": 87,
   "metadata": {},
   "outputs": [
    {
     "name": "stdout",
     "output_type": "stream",
     "text": [
      "CreditScore: 619  | dtype is: int64\n",
      "Geography: France  | dtype is: object\n",
      "Gender: Female  | dtype is: object\n",
      "Age: 42  | dtype is: int64\n",
      "Tenure: 2  | dtype is: int64\n",
      "Balance: 0.0  | dtype is: float64\n",
      "NumOfProducts: 1  | dtype is: int64\n",
      "HasCrCard: 1  | dtype is: int64\n",
      "IsActiveMember: 1  | dtype is: int64\n",
      "EstimatedSalary: 101348.88  | dtype is: float64\n"
     ]
    }
   ],
   "source": [
    "# Checking previous data for format of sample\n",
    "for i in X.columns:\n",
    "    print(i+\":\", X[i][0], \" | dtype is:\", X[i].dtype)"
   ]
  },
  {
   "cell_type": "code",
   "execution_count": 101,
   "metadata": {},
   "outputs": [],
   "source": [
    "arr = np.array([[600, \"France\", \"Male\", 40, 3, 60000.0, 2, 1, 1, 50000.0]])\n",
    "X_sample = pd.DataFrame(arr\n",
    "             , columns =['CreditScore', 'Geography',\n",
    "                         'Gender', 'Age', 'Tenure', 'Balance', 'NumOfProducts', 'HasCrCard',\n",
    "                         'IsActiveMember', 'EstimatedSalary'])"
   ]
  },
  {
   "cell_type": "markdown",
   "metadata": {},
   "source": [
    "## Preprocessing and using model to predict on X_sample data"
   ]
  },
  {
   "cell_type": "code",
   "execution_count": 103,
   "metadata": {},
   "outputs": [],
   "source": [
    "# One hot encoding\n",
    "X_sample = column_trans.transform(X_sample)"
   ]
  },
  {
   "cell_type": "code",
   "execution_count": 105,
   "metadata": {},
   "outputs": [],
   "source": [
    "# Scaling\n",
    "X_sample = sc.transform(X_sample)"
   ]
  },
  {
   "cell_type": "code",
   "execution_count": 114,
   "metadata": {},
   "outputs": [
    {
     "data": {
      "text/plain": [
       "array([[0]], dtype=int32)"
      ]
     },
     "execution_count": 114,
     "metadata": {},
     "output_type": "execute_result"
    }
   ],
   "source": [
    "classifier.predict_classes(X_sample)"
   ]
  },
  {
   "cell_type": "code",
   "execution_count": 118,
   "metadata": {},
   "outputs": [
    {
     "name": "stdout",
     "output_type": "stream",
     "text": [
      "The customer exited\n"
     ]
    }
   ],
   "source": [
    "if classifier.predict_classes(X_sample)[0][0]==0:\n",
    "    print(\"The customer exited\")\n",
    "else:\n",
    "    print(\"The customer didn't exit\")"
   ]
  },
  {
   "cell_type": "code",
   "execution_count": null,
   "metadata": {},
   "outputs": [],
   "source": []
  }
 ],
 "metadata": {
  "kernelspec": {
   "display_name": "Python 3",
   "language": "python",
   "name": "python3"
  },
  "language_info": {
   "codemirror_mode": {
    "name": "ipython",
    "version": 3
   },
   "file_extension": ".py",
   "mimetype": "text/x-python",
   "name": "python",
   "nbconvert_exporter": "python",
   "pygments_lexer": "ipython3",
   "version": "3.7.7"
  },
  "toc": {
   "base_numbering": 1,
   "nav_menu": {},
   "number_sections": true,
   "sideBar": true,
   "skip_h1_title": false,
   "title_cell": "Table of Contents",
   "title_sidebar": "Contents",
   "toc_cell": false,
   "toc_position": {},
   "toc_section_display": true,
   "toc_window_display": false
  },
  "varInspector": {
   "cols": {
    "lenName": 16,
    "lenType": 16,
    "lenVar": 40
   },
   "kernels_config": {
    "python": {
     "delete_cmd_postfix": "",
     "delete_cmd_prefix": "del ",
     "library": "var_list.py",
     "varRefreshCmd": "print(var_dic_list())"
    },
    "r": {
     "delete_cmd_postfix": ") ",
     "delete_cmd_prefix": "rm(",
     "library": "var_list.r",
     "varRefreshCmd": "cat(var_dic_list()) "
    }
   },
   "position": {
    "height": "279.85px",
    "left": "1062px",
    "right": "20px",
    "top": "120px",
    "width": "358px"
   },
   "types_to_exclude": [
    "module",
    "function",
    "builtin_function_or_method",
    "instance",
    "_Feature"
   ],
   "window_display": false
  }
 },
 "nbformat": 4,
 "nbformat_minor": 4
}
